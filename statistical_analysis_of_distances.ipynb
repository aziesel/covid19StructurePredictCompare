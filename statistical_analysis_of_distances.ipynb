{
 "cells": [
  {
   "cell_type": "code",
   "execution_count": null,
   "metadata": {
    "id": "QIkV1t1NQrw2"
   },
   "outputs": [],
   "source": [
    "import matplotlib.pyplot as plt\n",
    "import numpy as np\n",
    "import scipy.stats as stats\n",
    "import seaborn as sns\n",
    "import random\n",
    "from scipy.stats import f_oneway"
   ]
  },
  {
   "cell_type": "code",
   "execution_count": null,
   "metadata": {
    "id": "dH3g_XTnPe_e"
   },
   "outputs": [],
   "source": [
    "zie_and = [10, 89, 96, 42, 115, 28, 91, 45, 35, 77, 37, 33, 82, 71, 10, 8, 66, 32, 31, 37, 41, 18, 86, 76, 90, 61, 67, 104, 82, 82, 84, 35, 22, 10, 28, 22, 42, 26, 63, 60]\n",
    "zie_hus = [10, 75, 51, 32, 32, 18, 54, 25, 50, 54, 20, 53, 64, 50, 21, 30, 56, 49, 51, 38, 53, 45, 78, 63, 40, 52, 37, 72, 71, 55, 79, 55, 45, 30, 31, 17, 66, 64, 66, 47]\n",
    "zie_li  = [23, 71, 51, 30, 30, 17, 49, 39, 57, 68, 69, 71, 68, 84, 72, 80, 77, 77, 88, 70, 75, 91, 84, 86, 86, 70, 73, 98, 83, 69, 81, 90, 85, 60, 79, 77, 83, 65, 80, 82]\n",
    "zie_man = [10, 83, 51, 28, 43, 18, 51, 29, 40, 51, 53, 4, 59, 52, 3, 18, 46, 40, 70, 61, 60, 19, 60, 61, 66, 59, 32, 84, 47, 54, 78, 50, 35, 16, 26, 31, 37, 31, 63, 41]\n",
    "and_hus = [13, 70, 102, 59, 103, 46, 56, 28, 22, 82, 24, 48, 79, 48, 31, 32, 56, 37, 24, 32, 39, 29, 57, 59, 83, 58, 76, 105, 95, 55, 77, 55, 40, 20, 14, 19, 69, 47, 49, 68]\n",
    "and_li  = [21, 59, 101, 44, 114, 45, 62, 40, 36, 89, 63, 73, 92, 83, 66, 76, 85, 75, 81, 70, 77, 89, 81, 84, 86, 70, 99, 96, 98, 102, 94, 86, 84, 70, 77, 73, 92, 80, 112, 89]\n",
    "and_man = [12, 76, 102, 55, 92, 46, 54, 30, 26, 76, 25, 34, 72, 39, 13, 15, 61, 54, 45, 49, 42, 8, 65, 56, 83, 46, 57, 91, 91, 56, 78, 47, 20, 6, 7, 21, 37, 14, 29, 38]\n",
    "hus_li  = [20, 15, 12, 31, 27, 18, 14, 33, 37, 51, 67, 90, 82, 73, 83, 79, 86, 78, 81, 70, 70, 83, 93, 63, 79, 54, 84, 85, 92, 76, 80, 77, 87, 76,76, 73, 67, 80, 93, 74]\n",
    "hus_man = [20, 11, 0, 19, 17, 18, 24, 10, 41, 41, 41, 50, 64, 17, 18, 21, 58, 49, 46, 45, 35, 37, 49, 19, 55, 51, 37, 69, 33, 20, 24, 48, 34, 14, 11, 25, 45, 44, 30, 39]\n",
    "li_man  = [33, 21, 12, 25, 38, 22, 28, 27, 50, 68, 61, 72, 78, 74, 75, 75, 75, 87, 72, 66, 67, 91, 94, 70, 87, 48, 74, 92, 79, 86, 86, 85, 78, 71, 72, 69, 71, 80, 102, 77]"
   ]
  },
  {
   "cell_type": "code",
   "execution_count": null,
   "metadata": {
    "colab": {
     "base_uri": "https://localhost:8080/"
    },
    "id": "1DdRRTWfQuyw",
    "outputId": "2910b720-5cb5-41f4-f8ab-fb59dc38edb6"
   },
   "outputs": [
    {
     "data": {
      "text/plain": [
       "F_onewayResult(statistic=14.483425058451633, pvalue=2.9244722291504817e-20)"
      ]
     },
     "execution_count": 18,
     "metadata": {},
     "output_type": "execute_result"
    }
   ],
   "source": [
    "f_oneway(zie_and, zie_hus, zie_li, zie_man, and_hus, and_li, and_man, hus_li, hus_man, li_man)"
   ]
  },
  {
   "cell_type": "code",
   "execution_count": null,
   "metadata": {
    "colab": {
     "base_uri": "https://localhost:8080/"
    },
    "id": "1HRF50tBQxAB",
    "outputId": "091f6fc4-03a6-46c8-802b-b92e72adc0c8"
   },
   "outputs": [
    {
     "data": {
      "text/plain": [
       "Ttest_indResult(statistic=-1.0535452232720406, pvalue=0.29534389502935265)"
      ]
     },
     "execution_count": 19,
     "metadata": {},
     "output_type": "execute_result"
    }
   ],
   "source": [
    "stats.ttest_ind(zie_hus, and_hus)"
   ]
  },
  {
   "cell_type": "code",
   "execution_count": null,
   "metadata": {
    "colab": {
     "base_uri": "https://localhost:8080/"
    },
    "id": "qWWfJXDQk7Lw",
    "outputId": "cf7c5c67-a301-47e5-8930-982879593084"
   },
   "outputs": [
    {
     "data": {
      "text/plain": [
       "Ttest_indResult(statistic=-1.8461123050490758, pvalue=0.06866972565780748)"
      ]
     },
     "execution_count": 20,
     "metadata": {},
     "output_type": "execute_result"
    }
   ],
   "source": [
    "stats.ttest_ind(zie_li, and_li)"
   ]
  },
  {
   "cell_type": "code",
   "execution_count": null,
   "metadata": {
    "colab": {
     "base_uri": "https://localhost:8080/"
    },
    "id": "Rb_yp3_QSzLD",
    "outputId": "fda831bb-8526-4e5e-d19c-1d2e79402949"
   },
   "outputs": [
    {
     "data": {
      "text/plain": [
       "Ttest_indResult(statistic=-0.5110106945083511, pvalue=0.6107869860283828)"
      ]
     },
     "execution_count": 21,
     "metadata": {},
     "output_type": "execute_result"
    }
   ],
   "source": [
    "stats.ttest_ind(zie_man, and_man)"
   ]
  },
  {
   "cell_type": "code",
   "execution_count": null,
   "metadata": {
    "colab": {
     "base_uri": "https://localhost:8080/"
    },
    "id": "dj6y-GeUlGuP",
    "outputId": "0389ba68-5a52-4743-b3dc-a7553ef54304"
   },
   "outputs": [
    {
     "data": {
      "text/plain": [
       "Ttest_indResult(statistic=-1.9298320229431147, pvalue=0.05726352961436738)"
      ]
     },
     "execution_count": 22,
     "metadata": {},
     "output_type": "execute_result"
    }
   ],
   "source": [
    "stats.ttest_ind(zie_and, hus_li)"
   ]
  },
  {
   "cell_type": "code",
   "execution_count": null,
   "metadata": {
    "colab": {
     "base_uri": "https://localhost:8080/"
    },
    "id": "RvPntygtS3Eq",
    "outputId": "14d46a70-13c5-41a8-b7ba-ecc4cd5c6eb3"
   },
   "outputs": [
    {
     "data": {
      "text/plain": [
       "Ttest_indResult(statistic=3.73934795206608, pvalue=0.0003502468581920505)"
      ]
     },
     "execution_count": 23,
     "metadata": {},
     "output_type": "execute_result"
    }
   ],
   "source": [
    "stats.ttest_ind(zie_and, hus_man)"
   ]
  },
  {
   "cell_type": "code",
   "execution_count": null,
   "metadata": {
    "colab": {
     "base_uri": "https://localhost:8080/"
    },
    "id": "jKbVkJTVlMyu",
    "outputId": "de418173-138d-4f64-e483-97c9f8111a61"
   },
   "outputs": [
    {
     "data": {
      "text/plain": [
       "Ttest_indResult(statistic=9.110472756477735, pvalue=6.588938683151809e-14)"
      ]
     },
     "execution_count": 24,
     "metadata": {},
     "output_type": "execute_result"
    }
   ],
   "source": [
    "stats.ttest_ind(zie_li, hus_man)"
   ]
  },
  {
   "cell_type": "code",
   "execution_count": null,
   "metadata": {
    "id": "ZBXJmGunS7Pq"
   },
   "outputs": [],
   "source": [
    "import pandas as pd\n",
    "from statsmodels.stats.multicomp import pairwise_tukeyhsd"
   ]
  },
  {
   "cell_type": "code",
   "execution_count": null,
   "metadata": {
    "colab": {
     "base_uri": "https://localhost:8080/"
    },
    "id": "6nhXwIccRpci",
    "outputId": "8b2ec4b0-66d3-4abf-b914-dfb8c39bfa26"
   },
   "outputs": [
    {
     "name": "stdout",
     "output_type": "stream",
     "text": [
      "  Multiple Comparison of Means - Tukey HSD, FWER=0.05   \n",
      "========================================================\n",
      " group1  group2 meandiff p-adj   lower    upper   reject\n",
      "--------------------------------------------------------\n",
      "and_hus  and_li     25.2    0.0   9.0064  41.3936   True\n",
      "and_hus and_man    -5.95 0.9765 -22.1436  10.2436  False\n",
      "and_hus  hus_li   12.575 0.2875  -3.6186  28.7686  False\n",
      "and_hus hus_man  -19.425  0.006 -35.6186  -3.2314   True\n",
      "and_hus  li_man     13.3 0.2148  -2.8936  29.4936  False\n",
      "and_hus zie_and      0.7    1.0 -15.4936  16.8936  False\n",
      "and_hus zie_hus   -5.175 0.9911 -21.3686  11.0186  False\n",
      "and_hus  zie_li    17.05 0.0299   0.8564  33.2436   True\n",
      "and_hus zie_man    -8.65 0.7952 -24.8436   7.5436  False\n",
      " and_li and_man   -31.15    0.0 -47.3436 -14.9564   True\n",
      " and_li  hus_li  -12.625 0.2821 -28.8186   3.5686  False\n",
      " and_li hus_man  -44.625    0.0 -60.8186 -28.4314   True\n",
      " and_li  li_man    -11.9 0.3666 -28.0936   4.2936  False\n",
      " and_li zie_and    -24.5 0.0001 -40.6936  -8.3064   True\n",
      " and_li zie_hus  -30.375    0.0 -46.5686 -14.1814   True\n",
      " and_li  zie_li    -8.15 0.8469 -24.3436   8.0436  False\n",
      " and_li zie_man   -33.85    0.0 -50.0436 -17.6564   True\n",
      "and_man  hus_li   18.525 0.0114   2.3314  34.7186   True\n",
      "and_man hus_man  -13.475 0.1993 -29.6686   2.7186  False\n",
      "and_man  li_man    19.25 0.0068   3.0564  35.4436   True\n",
      "and_man zie_and     6.65 0.9518  -9.5436  22.8436  False\n",
      "and_man zie_hus    0.775    1.0 -15.4186  16.9686  False\n",
      "and_man  zie_li     23.0 0.0003   6.8064  39.1936   True\n",
      "and_man zie_man     -2.7    1.0 -18.8936  13.4936  False\n",
      " hus_li hus_man    -32.0    0.0 -48.1936 -15.8064   True\n",
      " hus_li  li_man    0.725    1.0 -15.4686  16.9186  False\n",
      " hus_li zie_and  -11.875 0.3697 -28.0686   4.3186  False\n",
      " hus_li zie_hus   -17.75 0.0191 -33.9436  -1.5564   True\n",
      " hus_li  zie_li    4.475  0.997 -11.7186  20.6686  False\n",
      " hus_li zie_man  -21.225 0.0015 -37.4186  -5.0314   True\n",
      "hus_man  li_man   32.725    0.0  16.5314  48.9186   True\n",
      "hus_man zie_and   20.125 0.0036   3.9314  36.3186   True\n",
      "hus_man zie_hus    14.25   0.14  -1.9436  30.4436  False\n",
      "hus_man  zie_li   36.475    0.0  20.2814  52.6686   True\n",
      "hus_man zie_man   10.775 0.5163  -5.4186  26.9686  False\n",
      " li_man zie_and    -12.6 0.2848 -28.7936   3.5936  False\n",
      " li_man zie_hus  -18.475 0.0118 -34.6686  -2.2814   True\n",
      " li_man  zie_li     3.75 0.9993 -12.4436  19.9436  False\n",
      " li_man zie_man   -21.95 0.0008 -38.1436  -5.7564   True\n",
      "zie_and zie_hus   -5.875 0.9785 -22.0686  10.3186  False\n",
      "zie_and  zie_li    16.35 0.0456   0.1564  32.5436   True\n",
      "zie_and zie_man    -9.35  0.711 -25.5436   6.8436  False\n",
      "zie_hus  zie_li   22.225 0.0007   6.0314  38.4186   True\n",
      "zie_hus zie_man   -3.475 0.9996 -19.6686  12.7186  False\n",
      " zie_li zie_man    -25.7    0.0 -41.8936  -9.5064   True\n",
      "--------------------------------------------------------\n"
     ]
    }
   ],
   "source": [
    "df = pd.DataFrame({'dist' : [10, 89, 96, 42, 115, 28, 91, 45, 35, 77, 37, 33, 82, 71, 10, 8, 66, 32, 31, 37, 41, 18, 86, 76, 90, 61, 67, 104, 82, 82, 84, 35, 22, 10, 28, 22, 42, 26, 63, 60,\n",
    "                              10, 75, 51, 32, 32, 18, 54, 25, 50, 54, 20, 53, 64, 50, 21, 30, 56, 49, 51, 38, 53, 45, 78, 63, 40, 52, 37, 72, 71, 55, 79, 55, 45, 30, 31, 17, 66, 64, 66, 47,\n",
    "                              23, 71, 51, 30, 30, 17, 49, 39, 57, 68, 69, 71, 68, 84, 72, 80, 77, 77, 88, 70, 75, 91, 84, 86, 86, 70, 73, 98, 83, 69, 81, 90, 85, 60, 79, 77, 83, 65, 80, 82,\n",
    "                              10, 83, 51, 28, 43, 18, 51, 29, 40, 51, 53, 4, 59, 52, 3, 18, 46, 40, 70, 61, 60, 19, 60, 61, 66, 59, 32, 84, 47, 54, 78, 50, 35, 16, 26, 31, 37, 31, 63, 41,\n",
    "                              13, 70, 102, 59, 103, 46, 56, 28, 22, 82, 24, 48, 79, 48, 31, 32, 56, 37, 24, 32, 39, 29, 57, 59, 83, 58, 76, 105, 95, 55, 77, 55, 40, 20, 14, 19, 69, 47, 49, 68,\n",
    "                              21, 59, 101, 44, 114, 45, 62, 40, 36, 89, 63, 73, 92, 83, 66, 76, 85, 75, 81, 70, 77, 89, 81, 84, 86, 70, 99, 96, 98, 102, 94, 86, 84, 70, 77, 73, 92, 80, 112, 89,\n",
    "                              12, 76, 102, 55, 92, 46, 54, 30, 26, 76, 25, 34, 72, 39, 13, 15, 61, 54, 45, 49, 42, 8, 65, 56, 83, 46, 57, 91, 91, 56, 78, 47, 20, 6, 7, 21, 37, 14, 29, 38,\n",
    "                              20, 15, 12, 31, 27, 18, 14, 33, 37, 51, 67, 90, 82, 73, 83, 79, 86, 78, 81, 70, 70, 83, 93, 63, 79, 54, 84, 85, 92, 76, 80, 77, 87, 76,76, 73, 67, 80, 93, 74,\n",
    "                              20, 11, 0, 19, 17, 18, 24, 10, 41, 41, 41, 50, 64, 17, 18, 21, 58, 49, 46, 45, 35, 37, 49, 19, 55, 51, 37, 69, 33, 20, 24, 48, 34, 14, 11, 25, 45, 44, 30, 39,\n",
    "                              33, 21, 12, 25, 38, 22, 28, 27, 50, 68, 61, 72, 78, 74, 75, 75, 75, 87, 72, 66, 67, 91, 94, 70, 87, 48, 74, 92, 79, 86, 86, 85, 78, 71, 72, 69, 71, 80, 102, 77],\n",
    "                   'comp' : np.repeat(['zie_and', 'zie_hus', 'zie_li', 'zie_man', 'and_hus', 'and_li', 'and_man', 'hus_li', 'hus_man', 'li_man'],\n",
    "                                     repeats= 40)\n",
    "                             })\n",
    "tukey = pairwise_tukeyhsd(endog=df['dist'], groups=df['comp'], alpha=0.05)\n",
    "print(tukey)\n"
   ]
  },
  {
   "cell_type": "code",
   "execution_count": null,
   "metadata": {
    "id": "6Nd5iPRARvNI"
   },
   "outputs": [],
   "source": [
    "from scipy.stats import shapiro"
   ]
  },
  {
   "cell_type": "code",
   "execution_count": null,
   "metadata": {
    "colab": {
     "base_uri": "https://localhost:8080/"
    },
    "id": "XBwOcopZS1oe",
    "outputId": "f27295ed-048a-4ad3-d5b0-af1829c980b9"
   },
   "outputs": [
    {
     "name": "stdout",
     "output_type": "stream",
     "text": [
      "ShapiroResult(statistic=0.9443379640579224, pvalue=0.048513013869524)\n",
      "ShapiroResult(statistic=0.9707021117210388, pvalue=0.37871646881103516)\n",
      "ShapiroResult(statistic=0.8676676154136658, pvalue=0.000248911528615281)\n",
      "ShapiroResult(statistic=0.9800918102264404, pvalue=0.6929623484611511)\n",
      "ShapiroResult(statistic=0.9592112302780151, pvalue=0.15740178525447845)\n",
      "ShapiroResult(statistic=0.9512839913368225, pvalue=0.08395620435476303)\n",
      "ShapiroResult(statistic=0.9638183116912842, pvalue=0.225734680891037)\n",
      "ShapiroResult(statistic=0.8264291882514954, pvalue=2.5304938390036114e-05)\n",
      "ShapiroResult(statistic=0.9714452028274536, pvalue=0.399443656206131)\n",
      "ShapiroResult(statistic=0.8817227482795715, pvalue=0.0005859600496478379)\n"
     ]
    }
   ],
   "source": [
    "print(shapiro(zie_and))\n",
    "print(shapiro(zie_hus))\n",
    "print(shapiro(zie_li))\n",
    "print(shapiro(zie_man))\n",
    "print(shapiro(and_hus))\n",
    "print(shapiro(and_li))\n",
    "print(shapiro(and_man))\n",
    "print(shapiro(hus_li))\n",
    "print(shapiro(hus_man))\n",
    "print(shapiro(li_man))"
   ]
  },
  {
   "cell_type": "code",
   "execution_count": null,
   "metadata": {
    "colab": {
     "base_uri": "https://localhost:8080/"
    },
    "id": "JTLhrG__Xagz",
    "outputId": "fb68448d-02f2-4cb3-c649-a96e9772aa14"
   },
   "outputs": [
    {
     "name": "stdout",
     "output_type": "stream",
     "text": [
      "Looking in indexes: https://pypi.org/simple, https://us-python.pkg.dev/colab-wheels/public/simple/\n",
      "Requirement already satisfied: scikit-posthocs in /usr/local/lib/python3.10/dist-packages (0.7.0)\n",
      "Requirement already satisfied: numpy in /usr/local/lib/python3.10/dist-packages (from scikit-posthocs) (1.22.4)\n",
      "Requirement already satisfied: scipy in /usr/local/lib/python3.10/dist-packages (from scikit-posthocs) (1.10.1)\n",
      "Requirement already satisfied: statsmodels in /usr/local/lib/python3.10/dist-packages (from scikit-posthocs) (0.13.5)\n",
      "Requirement already satisfied: pandas>=0.20.0 in /usr/local/lib/python3.10/dist-packages (from scikit-posthocs) (1.5.3)\n",
      "Requirement already satisfied: seaborn in /usr/local/lib/python3.10/dist-packages (from scikit-posthocs) (0.12.2)\n",
      "Requirement already satisfied: matplotlib in /usr/local/lib/python3.10/dist-packages (from scikit-posthocs) (3.7.1)\n",
      "Requirement already satisfied: python-dateutil>=2.8.1 in /usr/local/lib/python3.10/dist-packages (from pandas>=0.20.0->scikit-posthocs) (2.8.2)\n",
      "Requirement already satisfied: pytz>=2020.1 in /usr/local/lib/python3.10/dist-packages (from pandas>=0.20.0->scikit-posthocs) (2022.7.1)\n",
      "Requirement already satisfied: contourpy>=1.0.1 in /usr/local/lib/python3.10/dist-packages (from matplotlib->scikit-posthocs) (1.0.7)\n",
      "Requirement already satisfied: cycler>=0.10 in /usr/local/lib/python3.10/dist-packages (from matplotlib->scikit-posthocs) (0.11.0)\n",
      "Requirement already satisfied: fonttools>=4.22.0 in /usr/local/lib/python3.10/dist-packages (from matplotlib->scikit-posthocs) (4.39.3)\n",
      "Requirement already satisfied: kiwisolver>=1.0.1 in /usr/local/lib/python3.10/dist-packages (from matplotlib->scikit-posthocs) (1.4.4)\n",
      "Requirement already satisfied: packaging>=20.0 in /usr/local/lib/python3.10/dist-packages (from matplotlib->scikit-posthocs) (23.1)\n",
      "Requirement already satisfied: pillow>=6.2.0 in /usr/local/lib/python3.10/dist-packages (from matplotlib->scikit-posthocs) (8.4.0)\n",
      "Requirement already satisfied: pyparsing>=2.3.1 in /usr/local/lib/python3.10/dist-packages (from matplotlib->scikit-posthocs) (3.0.9)\n",
      "Requirement already satisfied: patsy>=0.5.2 in /usr/local/lib/python3.10/dist-packages (from statsmodels->scikit-posthocs) (0.5.3)\n",
      "Requirement already satisfied: six in /usr/local/lib/python3.10/dist-packages (from patsy>=0.5.2->statsmodels->scikit-posthocs) (1.16.0)\n"
     ]
    }
   ],
   "source": [
    "#Addition from Morgan\n",
    "\n",
    "from scipy.stats import kruskal\n",
    "!pip install scikit-posthocs\n",
    "from scipy.stats import bartlett\n",
    "import scikit_posthocs as sp\n",
    "\n"
   ]
  },
  {
   "cell_type": "code",
   "execution_count": null,
   "metadata": {
    "colab": {
     "base_uri": "https://localhost:8080/"
    },
    "id": "3KMJ_fZPTD60",
    "outputId": "07005d15-1897-4033-e815-205be2505d11"
   },
   "outputs": [
    {
     "name": "stdout",
     "output_type": "stream",
     "text": [
      "0.003570156582454732\n"
     ]
    },
    {
     "data": {
      "text/plain": [
       "KruskalResult(statistic=103.47278170572122, pvalue=3.1160816299634218e-18)"
      ]
     },
     "execution_count": 35,
     "metadata": {},
     "output_type": "execute_result"
    }
   ],
   "source": [
    "#Assumptions for ANOVA: Homogeneity of variance between groups, groups are normally distributed\n",
    "\n",
    "#This is a test for homogeneity of variance\n",
    "stat, p = bartlett(zie_and, zie_hus, zie_li, zie_man, and_hus, and_li, and_man, hus_li, hus_man, li_man)\n",
    "print(p)\n",
    "\n",
    "#both of these assumptions are violated (see shapiro above)\n",
    "\n",
    "#Perform a non-parametric test - Kruskal wallis test\n",
    "kruskal(zie_and, zie_hus, zie_li, zie_man, and_hus, and_li, and_man, hus_li, hus_man, li_man)\n",
    "\n",
    "#There is a difference between one or more groups\n",
    "\n"
   ]
  },
  {
   "cell_type": "code",
   "execution_count": null,
   "metadata": {
    "colab": {
     "base_uri": "https://localhost:8080/",
     "height": 363
    },
    "id": "lI2WHpdZUeRQ",
    "outputId": "84412484-d586-4078-9224-9f40d86f82ca"
   },
   "outputs": [
    {
     "data": {
      "text/html": [
       "\n",
       "  <div id=\"df-0294bf06-ada0-4e62-ba74-1d66cf31ec4e\">\n",
       "    <div class=\"colab-df-container\">\n",
       "      <div>\n",
       "<style scoped>\n",
       "    .dataframe tbody tr th:only-of-type {\n",
       "        vertical-align: middle;\n",
       "    }\n",
       "\n",
       "    .dataframe tbody tr th {\n",
       "        vertical-align: top;\n",
       "    }\n",
       "\n",
       "    .dataframe thead th {\n",
       "        text-align: right;\n",
       "    }\n",
       "</style>\n",
       "<table border=\"1\" class=\"dataframe\">\n",
       "  <thead>\n",
       "    <tr style=\"text-align: right;\">\n",
       "      <th></th>\n",
       "      <th>1</th>\n",
       "      <th>2</th>\n",
       "      <th>3</th>\n",
       "      <th>4</th>\n",
       "      <th>5</th>\n",
       "      <th>6</th>\n",
       "      <th>7</th>\n",
       "      <th>8</th>\n",
       "      <th>9</th>\n",
       "      <th>10</th>\n",
       "    </tr>\n",
       "  </thead>\n",
       "  <tbody>\n",
       "    <tr>\n",
       "      <th>1</th>\n",
       "      <td>1.000000</td>\n",
       "      <td>1.000000</td>\n",
       "      <td>1.705685e-01</td>\n",
       "      <td>1.000000e+00</td>\n",
       "      <td>1.000000</td>\n",
       "      <td>1.197304e-03</td>\n",
       "      <td>1.000000</td>\n",
       "      <td>1.000000e+00</td>\n",
       "      <td>2.230302e-02</td>\n",
       "      <td>1.000000e+00</td>\n",
       "    </tr>\n",
       "    <tr>\n",
       "      <th>2</th>\n",
       "      <td>1.000000</td>\n",
       "      <td>1.000000</td>\n",
       "      <td>2.301530e-03</td>\n",
       "      <td>1.000000e+00</td>\n",
       "      <td>1.000000</td>\n",
       "      <td>3.829773e-06</td>\n",
       "      <td>1.000000</td>\n",
       "      <td>3.528397e-02</td>\n",
       "      <td>8.963391e-01</td>\n",
       "      <td>3.418890e-02</td>\n",
       "    </tr>\n",
       "    <tr>\n",
       "      <th>3</th>\n",
       "      <td>0.170568</td>\n",
       "      <td>0.002302</td>\n",
       "      <td>1.000000e+00</td>\n",
       "      <td>2.529258e-04</td>\n",
       "      <td>0.078246</td>\n",
       "      <td>1.000000e+00</td>\n",
       "      <td>0.002758</td>\n",
       "      <td>1.000000e+00</td>\n",
       "      <td>8.062724e-09</td>\n",
       "      <td>1.000000e+00</td>\n",
       "    </tr>\n",
       "    <tr>\n",
       "      <th>4</th>\n",
       "      <td>1.000000</td>\n",
       "      <td>1.000000</td>\n",
       "      <td>2.529258e-04</td>\n",
       "      <td>1.000000e+00</td>\n",
       "      <td>1.000000</td>\n",
       "      <td>2.268567e-07</td>\n",
       "      <td>1.000000</td>\n",
       "      <td>5.354460e-03</td>\n",
       "      <td>1.000000e+00</td>\n",
       "      <td>5.167409e-03</td>\n",
       "    </tr>\n",
       "    <tr>\n",
       "      <th>5</th>\n",
       "      <td>1.000000</td>\n",
       "      <td>1.000000</td>\n",
       "      <td>7.824610e-02</td>\n",
       "      <td>1.000000e+00</td>\n",
       "      <td>1.000000</td>\n",
       "      <td>4.101477e-04</td>\n",
       "      <td>1.000000</td>\n",
       "      <td>6.616955e-01</td>\n",
       "      <td>5.254767e-02</td>\n",
       "      <td>6.459227e-01</td>\n",
       "    </tr>\n",
       "    <tr>\n",
       "      <th>6</th>\n",
       "      <td>0.001197</td>\n",
       "      <td>0.000004</td>\n",
       "      <td>1.000000e+00</td>\n",
       "      <td>2.268567e-07</td>\n",
       "      <td>0.000410</td>\n",
       "      <td>1.000000e+00</td>\n",
       "      <td>0.000005</td>\n",
       "      <td>1.000000e+00</td>\n",
       "      <td>6.948015e-13</td>\n",
       "      <td>1.000000e+00</td>\n",
       "    </tr>\n",
       "    <tr>\n",
       "      <th>7</th>\n",
       "      <td>1.000000</td>\n",
       "      <td>1.000000</td>\n",
       "      <td>2.758172e-03</td>\n",
       "      <td>1.000000e+00</td>\n",
       "      <td>1.000000</td>\n",
       "      <td>4.841917e-06</td>\n",
       "      <td>1.000000</td>\n",
       "      <td>4.112185e-02</td>\n",
       "      <td>7.995324e-01</td>\n",
       "      <td>3.985946e-02</td>\n",
       "    </tr>\n",
       "    <tr>\n",
       "      <th>8</th>\n",
       "      <td>1.000000</td>\n",
       "      <td>0.035284</td>\n",
       "      <td>1.000000e+00</td>\n",
       "      <td>5.354460e-03</td>\n",
       "      <td>0.661695</td>\n",
       "      <td>1.000000e+00</td>\n",
       "      <td>0.041122</td>\n",
       "      <td>1.000000e+00</td>\n",
       "      <td>5.844407e-07</td>\n",
       "      <td>1.000000e+00</td>\n",
       "    </tr>\n",
       "    <tr>\n",
       "      <th>9</th>\n",
       "      <td>0.022303</td>\n",
       "      <td>0.896339</td>\n",
       "      <td>8.062724e-09</td>\n",
       "      <td>1.000000e+00</td>\n",
       "      <td>0.052548</td>\n",
       "      <td>6.948015e-13</td>\n",
       "      <td>0.799532</td>\n",
       "      <td>5.844407e-07</td>\n",
       "      <td>1.000000e+00</td>\n",
       "      <td>5.553933e-07</td>\n",
       "    </tr>\n",
       "    <tr>\n",
       "      <th>10</th>\n",
       "      <td>1.000000</td>\n",
       "      <td>0.034189</td>\n",
       "      <td>1.000000e+00</td>\n",
       "      <td>5.167409e-03</td>\n",
       "      <td>0.645923</td>\n",
       "      <td>1.000000e+00</td>\n",
       "      <td>0.039859</td>\n",
       "      <td>1.000000e+00</td>\n",
       "      <td>5.553933e-07</td>\n",
       "      <td>1.000000e+00</td>\n",
       "    </tr>\n",
       "  </tbody>\n",
       "</table>\n",
       "</div>\n",
       "      <button class=\"colab-df-convert\" onclick=\"convertToInteractive('df-0294bf06-ada0-4e62-ba74-1d66cf31ec4e')\"\n",
       "              title=\"Convert this dataframe to an interactive table.\"\n",
       "              style=\"display:none;\">\n",
       "        \n",
       "  <svg xmlns=\"http://www.w3.org/2000/svg\" height=\"24px\"viewBox=\"0 0 24 24\"\n",
       "       width=\"24px\">\n",
       "    <path d=\"M0 0h24v24H0V0z\" fill=\"none\"/>\n",
       "    <path d=\"M18.56 5.44l.94 2.06.94-2.06 2.06-.94-2.06-.94-.94-2.06-.94 2.06-2.06.94zm-11 1L8.5 8.5l.94-2.06 2.06-.94-2.06-.94L8.5 2.5l-.94 2.06-2.06.94zm10 10l.94 2.06.94-2.06 2.06-.94-2.06-.94-.94-2.06-.94 2.06-2.06.94z\"/><path d=\"M17.41 7.96l-1.37-1.37c-.4-.4-.92-.59-1.43-.59-.52 0-1.04.2-1.43.59L10.3 9.45l-7.72 7.72c-.78.78-.78 2.05 0 2.83L4 21.41c.39.39.9.59 1.41.59.51 0 1.02-.2 1.41-.59l7.78-7.78 2.81-2.81c.8-.78.8-2.07 0-2.86zM5.41 20L4 18.59l7.72-7.72 1.47 1.35L5.41 20z\"/>\n",
       "  </svg>\n",
       "      </button>\n",
       "      \n",
       "  <style>\n",
       "    .colab-df-container {\n",
       "      display:flex;\n",
       "      flex-wrap:wrap;\n",
       "      gap: 12px;\n",
       "    }\n",
       "\n",
       "    .colab-df-convert {\n",
       "      background-color: #E8F0FE;\n",
       "      border: none;\n",
       "      border-radius: 50%;\n",
       "      cursor: pointer;\n",
       "      display: none;\n",
       "      fill: #1967D2;\n",
       "      height: 32px;\n",
       "      padding: 0 0 0 0;\n",
       "      width: 32px;\n",
       "    }\n",
       "\n",
       "    .colab-df-convert:hover {\n",
       "      background-color: #E2EBFA;\n",
       "      box-shadow: 0px 1px 2px rgba(60, 64, 67, 0.3), 0px 1px 3px 1px rgba(60, 64, 67, 0.15);\n",
       "      fill: #174EA6;\n",
       "    }\n",
       "\n",
       "    [theme=dark] .colab-df-convert {\n",
       "      background-color: #3B4455;\n",
       "      fill: #D2E3FC;\n",
       "    }\n",
       "\n",
       "    [theme=dark] .colab-df-convert:hover {\n",
       "      background-color: #434B5C;\n",
       "      box-shadow: 0px 1px 3px 1px rgba(0, 0, 0, 0.15);\n",
       "      filter: drop-shadow(0px 1px 2px rgba(0, 0, 0, 0.3));\n",
       "      fill: #FFFFFF;\n",
       "    }\n",
       "  </style>\n",
       "\n",
       "      <script>\n",
       "        const buttonEl =\n",
       "          document.querySelector('#df-0294bf06-ada0-4e62-ba74-1d66cf31ec4e button.colab-df-convert');\n",
       "        buttonEl.style.display =\n",
       "          google.colab.kernel.accessAllowed ? 'block' : 'none';\n",
       "\n",
       "        async function convertToInteractive(key) {\n",
       "          const element = document.querySelector('#df-0294bf06-ada0-4e62-ba74-1d66cf31ec4e');\n",
       "          const dataTable =\n",
       "            await google.colab.kernel.invokeFunction('convertToInteractive',\n",
       "                                                     [key], {});\n",
       "          if (!dataTable) return;\n",
       "\n",
       "          const docLinkHtml = 'Like what you see? Visit the ' +\n",
       "            '<a target=\"_blank\" href=https://colab.research.google.com/notebooks/data_table.ipynb>data table notebook</a>'\n",
       "            + ' to learn more about interactive tables.';\n",
       "          element.innerHTML = '';\n",
       "          dataTable['output_type'] = 'display_data';\n",
       "          await google.colab.output.renderOutput(dataTable, element);\n",
       "          const docLink = document.createElement('div');\n",
       "          docLink.innerHTML = docLinkHtml;\n",
       "          element.appendChild(docLink);\n",
       "        }\n",
       "      </script>\n",
       "    </div>\n",
       "  </div>\n",
       "  "
      ],
      "text/plain": [
       "          1         2             3             4         5             6   \\\n",
       "1   1.000000  1.000000  1.705685e-01  1.000000e+00  1.000000  1.197304e-03   \n",
       "2   1.000000  1.000000  2.301530e-03  1.000000e+00  1.000000  3.829773e-06   \n",
       "3   0.170568  0.002302  1.000000e+00  2.529258e-04  0.078246  1.000000e+00   \n",
       "4   1.000000  1.000000  2.529258e-04  1.000000e+00  1.000000  2.268567e-07   \n",
       "5   1.000000  1.000000  7.824610e-02  1.000000e+00  1.000000  4.101477e-04   \n",
       "6   0.001197  0.000004  1.000000e+00  2.268567e-07  0.000410  1.000000e+00   \n",
       "7   1.000000  1.000000  2.758172e-03  1.000000e+00  1.000000  4.841917e-06   \n",
       "8   1.000000  0.035284  1.000000e+00  5.354460e-03  0.661695  1.000000e+00   \n",
       "9   0.022303  0.896339  8.062724e-09  1.000000e+00  0.052548  6.948015e-13   \n",
       "10  1.000000  0.034189  1.000000e+00  5.167409e-03  0.645923  1.000000e+00   \n",
       "\n",
       "          7             8             9             10  \n",
       "1   1.000000  1.000000e+00  2.230302e-02  1.000000e+00  \n",
       "2   1.000000  3.528397e-02  8.963391e-01  3.418890e-02  \n",
       "3   0.002758  1.000000e+00  8.062724e-09  1.000000e+00  \n",
       "4   1.000000  5.354460e-03  1.000000e+00  5.167409e-03  \n",
       "5   1.000000  6.616955e-01  5.254767e-02  6.459227e-01  \n",
       "6   0.000005  1.000000e+00  6.948015e-13  1.000000e+00  \n",
       "7   1.000000  4.112185e-02  7.995324e-01  3.985946e-02  \n",
       "8   0.041122  1.000000e+00  5.844407e-07  1.000000e+00  \n",
       "9   0.799532  5.844407e-07  1.000000e+00  5.553933e-07  \n",
       "10  0.039859  1.000000e+00  5.553933e-07  1.000000e+00  "
      ]
     },
     "execution_count": 33,
     "metadata": {},
     "output_type": "execute_result"
    }
   ],
   "source": [
    "#Conduct post hoc tests - Dunn's test with p correction for multiple comparisons\n",
    "data = [zie_and, zie_hus, zie_li, zie_man, and_hus, and_li, and_man, hus_li, hus_man, li_man]\n",
    "\n",
    "sp.posthoc_dunn(data, p_adjust='bonferroni')\n",
    "\n",
    "#We see significant difference between 1-6, 1-9, 2-3, 2-6, 2-8, 2-9, 3-4, 3-9, 4-6, 4-8, 4-10, 5-6, 5-9, 6-7, 6-9, 7-8, 7-10, 8-9, 9-10\n",
    "#zie_and-and_li, zie_and-hus_man,\n",
    "#zie_hus-zie_li, zie_hus-and_li, zie_hus-hus_li, zie_hus-hus_man,\n",
    "#zie_li-zie_man, zie_li-hus_man,\n",
    "#zie_man-and_li, zie_man-hus_li, zie_man-li_man,\n",
    "#and_hus-and_li, and_hus-hus_man,\n",
    "#and_man-hus_li, and_man-hus_man,\n",
    "#and_man-hus_li, and_man-li_man,\n",
    "#hus_li-hus_man,\n",
    "#hus_man-li_man"
   ]
  },
  {
   "cell_type": "code",
   "execution_count": null,
   "metadata": {
    "id": "vOEjt4qXhm4k"
   },
   "outputs": [],
   "source": []
  }
 ],
 "metadata": {
  "colab": {
   "provenance": []
  },
  "kernelspec": {
   "display_name": "Python 3 (ipykernel)",
   "language": "python",
   "name": "python3"
  },
  "language_info": {
   "codemirror_mode": {
    "name": "ipython",
    "version": 3
   },
   "file_extension": ".py",
   "mimetype": "text/x-python",
   "name": "python",
   "nbconvert_exporter": "python",
   "pygments_lexer": "ipython3",
   "version": "3.9.6"
  }
 },
 "nbformat": 4,
 "nbformat_minor": 1
}
