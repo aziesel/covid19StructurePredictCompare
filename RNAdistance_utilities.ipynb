{
 "cells": [
  {
   "cell_type": "code",
   "execution_count": 3,
   "id": "35342819",
   "metadata": {
    "tags": []
   },
   "outputs": [],
   "source": [
    "from itertools import zip_longest\n",
    "from collections import Counter\n",
    "import numpy as np\n",
    "\n",
    "def hamming_distance(str1, str2):\n",
    "  return sum (c1 != c2 for c1, c2 in zip_longest(str1, str2))\n",
    "\n",
    "#converts to binary (either base pair = '1') to calculate paired vs unpaired distance\n",
    "def convert(string):\n",
    "  string = string.replace(\"(\", \"1\")\n",
    "  string = string.replace(\")\", \"1\")\n",
    "  string = string.replace(\".\", \"0\")\n",
    "  return string\n",
    "\n",
    "#this function doesn't work for pseudoknotted structures, only knot-free\n",
    "def get_basepairs(string, start=0):     \n",
    "    bp_stack = []\n",
    "    bp_output = []\n",
    "    for i in range(len(string)):\n",
    "        if string[i] == '.':\n",
    "            next\n",
    "        if string[i] == '(':\n",
    "            bp_stack.append(i)\n",
    "        if string[i] == ')':\n",
    "            bp_output.append((bp_stack.pop()+start+1, i+start+1))  #this right here should maybe be +start+1, i+start-1\n",
    "    return bp_output\n",
    "\n",
    "#find loops/bulges of structure (...) where any number of . is possible but it must be consistent\n",
    "def get_loops(string, start=0):\n",
    "    loop_stack = []\n",
    "    loop_output = []\n",
    "    loop_open = False\n",
    "    bulge_open = False\n",
    "    for i in range(len(string)):\n",
    "        if string[i] == '(':\n",
    "            if string[i+1] == '.':\n",
    "                loop_open = True\n",
    "        if string[i] == ')':\n",
    "            if i == len(string)-1:\n",
    "                break\n",
    "            if string[i+1] == '.':\n",
    "                bulge_open = True\n",
    "        if loop_open and string[i] == '.':\n",
    "            loop_stack.append(i+start+1)\n",
    "            next\n",
    "        if bulge_open and string[i] == '.':\n",
    "            loop_stack.append(i+start+1)\n",
    "            next\n",
    "        if loop_open and string[i] == ')' or loop_open and string[i] == '(':\n",
    "            if string[i-1] == '.':\n",
    "                loop_open = False\n",
    "                loop_stack = sorted(loop_stack)\n",
    "                loop_output.append(tuple(loop_stack))\n",
    "                loop_stack = []\n",
    "        if bulge_open and string[i] == ')':\n",
    "            if string[i-1] == '.':\n",
    "                bulge_open = False\n",
    "                loop_stack = sorted(loop_stack)\n",
    "                loop_output.append(tuple(loop_stack))\n",
    "                loop_stack = []\n",
    "        if bulge_open and string[i] == '(':\n",
    "            bulge_open = False\n",
    "            loop_stack = []\n",
    "    return loop_output\n",
    "        \n",
    "def compare(list_of_strings, start=0):\n",
    "    list_of_hits = []\n",
    "    number_of_lists = len(list_of_strings)\n",
    "    for item in list_of_strings:\n",
    "        list_of_hits.append(get_loops(item, start))\n",
    "        #list_of_hits.append(get_basepairs(item, start))\n",
    "    list_of_hits = [item for sublist in list_of_hits for item in sublist]\n",
    "    tally_of_hits = Counter(list_of_hits)\n",
    "    #common_bp gets the list of tuple base pair positions that exist in all of the structures compared\n",
    "    common_bp = [key for key in tally_of_hits.keys() if tally_of_hits[key] == number_of_lists]\n",
    "    return common_bp\n",
    "\n",
    "def levenshtein_distance(str1, str2):\n",
    "    matrix = np.zeros((len(str1)+1, len(str2)+1))\n",
    "    for x in range(len(str1)+1):\n",
    "        matrix[x,0] = x\n",
    "    for y in range(len(str2)+1):\n",
    "        matrix[0,y] = y\n",
    "    for x in range(1, len(str1)+1):\n",
    "        for y in range(1, len(str2)+1):\n",
    "            if str1[x-1] == str2[y-1]:\n",
    "                matrix[x,y] = min(\n",
    "                    matrix[x-1, y]+1,\n",
    "                    matrix[x-1, y-1],\n",
    "                    matrix[x, y-1]+1\n",
    "                )\n",
    "            else: \n",
    "                matrix[x,y] = min(\n",
    "                    matrix[x-1, y]+1,\n",
    "                    matrix[x-1, y-1]+1,\n",
    "                    matrix[x, y-1]+1\n",
    "                )\n",
    "    return matrix[len(str1), len(str2)]"
   ]
  },
  {
   "cell_type": "code",
   "execution_count": 3,
   "id": "3818f2e5",
   "metadata": {},
   "outputs": [
    {
     "name": "stdout",
     "output_type": "stream",
     "text": [
      "88 78 66\n"
     ]
    }
   ],
   "source": [
    "R = '..............(.(((((((((..(((((.((....)).)))))..)))))......(((((((((((((((((((......)))))))).)))))))..)))).....(((((((........)))))))...)))).)....'\n",
    "L = '............((........))......((((......))))...(..((((((.(((((........(((((.((((((......)))))).))))))))))))))))..).......((((.(..(((((.((....)).)))))..)))))......'\n",
    "C = '...................((((((...(((((.((((................................(((((((.((((....)))).)))))))((((......))))....)))).)))))....)))))).(((((((......)))))))...'\n",
    "\n",
    "print(hamming_distance(convert(R), convert(L)), hamming_distance(convert(R), convert(C)), hamming_distance(convert(L), convert(C)))"
   ]
  },
  {
   "cell_type": "code",
   "execution_count": 229,
   "id": "fa91acc2",
   "metadata": {},
   "outputs": [
    {
     "name": "stdout",
     "output_type": "stream",
     "text": [
      "[]\n"
     ]
    }
   ],
   "source": [
    "R = '..............(.(((((((((..(((((.((....)).)))))..)))))......(((((((((((((((((((......)))))))).)))))))..)))).....(((((((........)))))))...)))).)....'\n",
    "L = '............((........))......((((......))))...(..((((((.(((((........(((((.((((((......)))))).))))))))))))))))..).......((((.(..(((((.((....)).)))))..)))))......'\n",
    "C = '...................((((((...(((((.((((................................(((((((.((((....)))).)))))))((((......))))....)))).)))))....)))))).(((((((......)))))))...'\n",
    "S = '..........((((................((((......))))......((((((.(((((......(((((.((((((......)))))).))))))))))))))))..))))..(((((..(((((.((....)).)))))..)))))......'\n",
    "print(compare([R, L, C, S]))"
   ]
  },
  {
   "cell_type": "code",
   "execution_count": 58,
   "id": "216e910e",
   "metadata": {},
   "outputs": [
    {
     "name": "stdout",
     "output_type": "stream",
     "text": [
      "57.0 64.0 71.0\n"
     ]
    }
   ],
   "source": [
    "R = '..............(.(((((((((..(((((.((....)).)))))..)))))......(((((((((((((((((((......)))))))).)))))))..)))).....(((((((........)))))))...)))).)....'\n",
    "L = '............((........))......((((......))))...(..((((((.(((((........(((((.((((((......)))))).))))))))))))))))..).......((((.(..(((((.((....)).)))))..)))))......'\n",
    "C = '...................((((((...(((((.((((................................(((((((.((((....)))).)))))))((((......))))....)))).)))))....)))))).(((((((......)))))))...'\n",
    "print(levenshtein_distance(R, L), levenshtein_distance(R,C), levenshtein_distance(L, C))"
   ]
  },
  {
   "cell_type": "code",
   "execution_count": 7,
   "id": "082624d4",
   "metadata": {},
   "outputs": [
    {
     "name": "stdout",
     "output_type": "stream",
     "text": [
      "85 71 54.0\n"
     ]
    }
   ],
   "source": [
    "print(hamming_distance(R,L), hamming_distance(convert(R), convert(L)), levenshtein_distance(convert(R), convert(L)))"
   ]
  },
  {
   "cell_type": "code",
   "execution_count": 1,
   "id": "aa7c0416",
   "metadata": {},
   "outputs": [
    {
     "ename": "ModuleNotFoundError",
     "evalue": "No module named 'RNA'",
     "output_type": "error",
     "traceback": [
      "\u001b[0;31m---------------------------------------------------------------------------\u001b[0m",
      "\u001b[0;31mModuleNotFoundError\u001b[0m                       Traceback (most recent call last)",
      "Cell \u001b[0;32mIn[1], line 1\u001b[0m\n\u001b[0;32m----> 1\u001b[0m \u001b[38;5;28;01mimport\u001b[39;00m \u001b[38;5;21;01mRNA\u001b[39;00m\n",
      "\u001b[0;31mModuleNotFoundError\u001b[0m: No module named 'RNA'"
     ]
    }
   ],
   "source": [
    "import RNA\n"
   ]
  },
  {
   "cell_type": "code",
   "execution_count": 136,
   "id": "01f820ca",
   "metadata": {},
   "outputs": [
    {
     "data": {
      "text/plain": [
       "17.899999618530273"
      ]
     },
     "execution_count": 136,
     "metadata": {},
     "output_type": "execute_result"
    }
   ],
   "source": [
    "RNA.energy_of_structure('UYnCnUUAAUUGACUUCUAUUUGUGCUUUUUAGCCUUUCUGCUAUUCCUUGUUUUAAUnAUGCUUAUUAUnUUUUGGUUYUCACUYGAAnUnCARGAUCnnRAnGAAnCUUGUnnC---GYCUAAACGAACAUGAAAYUUCUYRUUnUYUURRnnnnYnU', \n",
    "                        '...................((((((...(((((.((((................................(((((((.((((....)))).)))))))((((......))))....)))).)))))....)))))).(((((((......)))))))...',\n",
    "                        0)"
   ]
  },
  {
   "cell_type": "code",
   "execution_count": 45,
   "id": "de8a0cef",
   "metadata": {},
   "outputs": [
    {
     "data": {
      "text/plain": [
       "['..........((((................((((......))))......((((((.(((((......(((((.((((((......)))))).))))))))))))))))..))))..(((((..(((((.((....)).)))))..)))))......',\n",
       " -27.200000762939453]"
      ]
     },
     "execution_count": 45,
     "metadata": {},
     "output_type": "execute_result"
    }
   ],
   "source": [
    "RNA.fold(\"UUUCAUUAAUUGACUUCUAUUUGUGCUUUUUAGCCUUUCUGCUAUUCCUUGUUUUAAUUAUGCUUAUUAUCUUUUGGUUCUCACUUGAACUGCAAGAUCAUAAUGAAACUUGUCACGCCUAAACGAACAUGAAAUUUCUUGUUUUCUUAGGAAUCAU\")"
   ]
  },
  {
   "cell_type": "code",
   "execution_count": 121,
   "id": "a454e9d5",
   "metadata": {},
   "outputs": [
    {
     "name": "stdout",
     "output_type": "stream",
     "text": [
      "[[6, 7], [15, 16, 17], [20, 21, 22]]\n"
     ]
    }
   ],
   "source": [
    "string = '...((..))...((...((...))))...'\n",
    "print(get_loops(string))"
   ]
  },
  {
   "cell_type": "code",
   "execution_count": 176,
   "id": "829be72b",
   "metadata": {},
   "outputs": [
    {
     "name": "stdout",
     "output_type": "stream",
     "text": [
      "41.0\n"
     ]
    }
   ],
   "source": [
    "SHAPE = '..((.......))...........(((....)))....))))))........................(((((.((((((......)))))).)))))...................(((((..(((((.((....)).)))))..)))))......' \n",
    "RNAz =  '..........((((................((((......))))......((((((.(((((......(((((.((((((......)))))).))))))))))))))))..))))..(((((..(((((.((....)).)))))..)))))......'\n",
    "print(levenshtein_distance(SHAPE,RNAz))"
   ]
  },
  {
   "cell_type": "code",
   "execution_count": 54,
   "id": "cca0bc84-f263-4ef5-be4b-fd34d6fe85a9",
   "metadata": {
    "tags": []
   },
   "outputs": [
    {
     "name": "stdout",
     "output_type": "stream",
     "text": [
      "82.0\n"
     ]
    }
   ],
   "source": [
    "Zie = '..........((((................((((......))))......((((((.(((((......(((((.((((((......)))))).))))))))))))))))..))))..(((((..(((((.((....)).)))))..)))))......'\n",
    "Li  = '..))))...))..)))((((.(((((.....)))))..))))..........((.((((((.....)))))).)).....(((((.((((((.((((((.((((.((.....((((((((...((((.(((((.((((((...))))))))))).))'\n",
    "print(levenshtein_distance(Zie,Li))"
   ]
  },
  {
   "cell_type": "code",
   "execution_count": 95,
   "id": "af264f3f",
   "metadata": {
    "tags": []
   },
   "outputs": [
    {
     "name": "stdout",
     "output_type": "stream",
     "text": [
      "68.0 38.0 89.0 39.0 74.0 77.0\n"
     ]
    }
   ],
   "source": [
    "And =   '.....................................................................................................................(((((..(((((.((....)).)))))..)))))......'\n",
    "Hus =   '..(((.....))).))).))).(((...((((((......))))...........))...)))((((.(((((.((((((......)))))).))))).)))).((((((.((....(((((..(((((.((....)).)))))..)))))......'\n",
    "Mvivo = '..((.......))...........(((....)))....))))))........................(((((.((((((......)))))).)))))...................(((((..(((((.((....)).)))))..)))))......'\n",
    "Li =    '..))))...))..)))((((.(((((.....)))))..))))..........((.((((((.....)))))).)).....(((((.((((((.((((((.((((.((.....((((((((...((((.(((((.((((((...))))))))))).))'\n",
    "print(levenshtein_distance(And,Hus), levenshtein_distance(And, Mvivo), levenshtein_distance(And, Li), levenshtein_distance(Hus,Mvivo), levenshtein_distance(Hus, Li), levenshtein_distance(Mvivo, Li))"
   ]
  },
  {
   "cell_type": "code",
   "execution_count": 8,
   "id": "a811672d",
   "metadata": {},
   "outputs": [
    {
     "name": "stdout",
     "output_type": "stream",
     "text": [
      "60.0\n",
      "00000000001111111101101111011100000111011111101111111100000000000000000000000011111111111101111100011101110111111100111111011111000000111110011111100000011111\n",
      "01111101111111000011111111111100000111000001111101111110000011111111110100110110001111100011111110110010111111111011111000000111110111111111000011110111011111\n",
      "..........((((((((.((.((((.(((.....))).)))))).))))))))........................((((((((((((.(((((...(((.(((.(((((((..((((((.(((((......)))))..))))))......)))((\n"
     ]
    }
   ],
   "source": [
    "sarbec = '......(((((((.(((....)))))..)))))...........(((((.....))))).((((.......)).))..............((((((((.((.((((.(((.....))).)))))).))))))))........................((((((((((((.(((((...(((.(((.(((((((..((((((.(((((......)))))..))))))......)))(((((((.((......)))))))))(((....))))))).)))))).))))))))))...))))))).....'\n",
    "sarbec_window = sarbec[80:238]\n",
    "rnaz_0 = '.(((((.(((((((....((((((((((((.....))).....(((((.((((((.....))))))((((.(..((.((...(((((...))))))).))..).))))))))).(((((......))))).)))))))))....)))).))).)))))'\n",
    "print(levenshtein_distance(convert(sarbec_window),convert(rnaz_0)))\n",
    "print(convert(sarbec_window))\n",
    "print(convert(rnaz_0))\n",
    "print(sarbec_window)"
   ]
  },
  {
   "cell_type": "code",
   "execution_count": 223,
   "id": "71703a75",
   "metadata": {},
   "outputs": [
    {
     "name": "stdout",
     "output_type": "stream",
     "text": [
      "54.0\n"
     ]
    }
   ],
   "source": [
    "sarbec_comp = '1110111011111110011111101111100000011111001111110000001111111111011000000111111111111000011111110111111011111111110001111111000000000000000000000000000000000000'\n",
    "rnaz_2_comp = '0000001101111110111110000001111100111111000111100111111101100000011111111111100001110011110011111000000001111101111110001100001100001110111011111100011111100110'\n",
    "print(levenshtein_distance(sarbec_comp,rnaz_2_comp))"
   ]
  },
  {
   "cell_type": "code",
   "execution_count": 21,
   "id": "a4856793",
   "metadata": {},
   "outputs": [
    {
     "name": "stdout",
     "output_type": "stream",
     "text": [
      "31.0\n"
     ]
    }
   ],
   "source": [
    "ref = '......(((((((.......))).))))...(((((......)))))..............(((((((((...((((..(((((.((..(((((......))))).)).)))))...(((((....)))))........)))))))))))))........'\n",
    "mut = '......(((.(((((((((((((.(((...))).)))......)).)))))))).)))...(((((((((...((((..(((((.((..(((((......))))).)).)))))...(((((....)))))........)))))))))))))........'\n",
    "print(levenshtein_distance(ref,mut))"
   ]
  },
  {
   "cell_type": "code",
   "execution_count": null,
   "id": "f9212f30",
   "metadata": {},
   "outputs": [],
   "source": []
  }
 ],
 "metadata": {
  "kernelspec": {
   "display_name": "Python 3 (ipykernel)",
   "language": "python",
   "name": "python3"
  },
  "language_info": {
   "codemirror_mode": {
    "name": "ipython",
    "version": 3
   },
   "file_extension": ".py",
   "mimetype": "text/x-python",
   "name": "python",
   "nbconvert_exporter": "python",
   "pygments_lexer": "ipython3",
   "version": "3.9.6"
  }
 },
 "nbformat": 4,
 "nbformat_minor": 5
}
